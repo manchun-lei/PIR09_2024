{
 "cells": [
  {
   "cell_type": "code",
   "execution_count": 1,
   "id": "9042c689-a900-476c-85f7-40c5a7ad8977",
   "metadata": {},
   "outputs": [],
   "source": [
    "import csv\n",
    "import numpy as np\n",
    "import sys\n",
    "import os\n",
    "from osgeo import gdal\n",
    "current_dir = os.getcwd()\n",
    "sys.path.append(os.path.join(current_dir,'..','src'))\n",
    "from util import *\n",
    "\n",
    "sys.path.append(os.path.join(current_dir,'..','params'))\n",
    "from load_params import *\n",
    "\n"
   ]
  },
  {
   "cell_type": "code",
   "execution_count": 2,
   "id": "b404e24c-9df9-415e-9d6d-4f5a693a9953",
   "metadata": {},
   "outputs": [
    {
     "name": "stdout",
     "output_type": "stream",
     "text": [
      "(540260, 3)\n",
      "0.7856000065803528 0.017500000074505806\n"
     ]
    }
   ],
   "source": [
    "\n",
    "#obtention du tableau RVB à partir des 3 images satellites B2,B3,B4 \n",
    "chemin = os.path.abspath(\"../image/image_sondage\")\n",
    "#chemin = os.path.abspath(\"../image/image_equation\")\n",
    "\n",
    "#Pensez bien à changer le nom de l'image\n",
    "dossier = os.path.join(chemin,\"NouvelleCaledonie/NouvelleCaledonie_10m\")\n",
    "img = \"2024-11-18-0000_2024-11-18-2359_Sentinel-2_L2A\"\n",
    "#image \n",
    "#dossier = os.path.join(chemin,\"Carrizo_Plain_California)\")\n",
    "#img = \"2017-03-28-00:00_2017-03-28-23:59_Sentinel-2_L1C\"\n",
    "\n",
    "\n",
    "def RVB(root_srcpath, path_name, prod_name):\n",
    "    bnames = ['B04','B03','B02']\n",
    "    \n",
    "    # Obtenir le chemin en entier\n",
    "    srcpath = os.path.join(root_srcpath,path_name)\n",
    "    srcfile = os.path.join(srcpath,prod_name+'_'+bnames[0]+'_Raw.tiff')\n",
    "    src = gdal.Open(srcfile)\n",
    "    \n",
    "    # Obtenir les dimensions de l'image\n",
    "    nx = src.RasterXSize\n",
    "    ny = src.RasterYSize\n",
    "    src = None\n",
    "    \n",
    "    # Préparer la matrice de sortie\n",
    "    out_matrix = np.empty((nx * ny, 3), dtype=float)\n",
    "    \n",
    "    # Charger les bandes et remplir la matrice\n",
    "    for i, bname in enumerate(bnames):\n",
    "        srcfile = os.path.join(srcpath, prod_name + '_' + bname + '_Raw.tiff')\n",
    "        src = gdal.Open(srcfile)\n",
    "                \n",
    "        # Lire la bande entière \n",
    "        arr = src.GetRasterBand(1).ReadAsArray().astype(float) \n",
    "        src = None\n",
    "        \n",
    "        out_matrix[:, i] = arr.flatten()\n",
    "        \n",
    "    return out_matrix, nx, ny\n",
    "RVB, nx, ny = RVB(chemin, dossier, img)\n",
    "\n",
    "RVB = np.clip(RVB, 0,1)\n",
    "print(RVB.shape)\n",
    "print(np.max(RVB),np.min(RVB))\n",
    "#print(RVB)"
   ]
  },
  {
   "cell_type": "code",
   "execution_count": 3,
   "id": "fd740225-f7b3-4cda-a08d-203f9a0af3ae",
   "metadata": {},
   "outputs": [
    {
     "name": "stdout",
     "output_type": "stream",
     "text": [
      "(540260, 3)\n"
     ]
    }
   ],
   "source": [
    "\n",
    "#convertion de RVB en XYZ\n",
    "T_8_new = matrix_s2l2ab4b3b2_to_xyzd65_sovdat2019_eq8_new\n",
    "T_8 = matrix_s2l2ab4b3b2_to_xyzd65_sovdat2019_eq8\n",
    "T_9 = matrix_s2l2ab4b3b2_to_xyzd65_sovdat2019_eq9\n",
    "\n",
    "def RVB_to_XYZ(T, A):\n",
    "    B = A @ T\n",
    "    return B\n",
    "\n",
    "XYZ = RVB_to_XYZ(T_8_new, RVB)\n",
    "print(np.shape(XYZ))\n"
   ]
  },
  {
   "cell_type": "code",
   "execution_count": 4,
   "id": "71677c12-3012-4454-b249-883a5649896c",
   "metadata": {},
   "outputs": [
    {
     "name": "stdout",
     "output_type": "stream",
     "text": [
      "0.855546057839677 0.02081000062437088\n",
      "(3, 540260)\n"
     ]
    }
   ],
   "source": [
    "\n",
    "# XYZ to sRVB\n",
    "\n",
    "#standart Martix define by CIE\n",
    "M = np.array([[3.240625,-1.537208,-0.498629],\n",
    "             [-0.968931,1.875756,0.041518],\n",
    "             [0.055710, -0.204021,1.056996]])\n",
    "\n",
    "sRVB = M@XYZ.T\n",
    "#print(sRVB)\n",
    "print(np.max(sRVB),np.min(sRVB))\n",
    "sRVB = np.clip(sRVB, 0, 1)\n",
    "print(sRVB.shape)\n",
    "\n",
    "RVB_16bit = np.clip(sRVB*65535, 0, 65535)\n",
    "#print(sRVB)\n",
    "#print(RVB_16bit)\n",
    "\n"
   ]
  },
  {
   "cell_type": "code",
   "execution_count": 5,
   "id": "7b7ddff9-72a2-46f0-9bda-b65f11c67bb9",
   "metadata": {},
   "outputs": [
    {
     "data": {
      "text/plain": [
       "'\\n#RVB équation T8/T9 en sRVB 8bit et application gamma 2.4\\nR = sRVB[0]\\nV = sRVB[1]\\nB = sRVB[2]\\n\\ndef phi(R):\\n    for k in range(len(R)):\\n        if R[k] <= 0.0031308:\\n            R[k] = R[k]*255*12.92\\n        else:\\n            R[k] = 255*(1.055*R[k]**(1/2.4) - 0.055)\\n    return R\\n\\nR_8bit = phi(R)\\nV_8bit = phi(V)\\nB_8bit = phi(B)\\nsRVB_8bit = np.array([R_8bit,V_8bit,B_8bit]).T\\nsRVB_8bit = np.clip(sRVB_8bit, 0, 255).astype(np.uint8)\\nprint(sRVB_8bit)\\n#print(np.max(sRVB))\\n#print(np.shape(sRVB_8bit))\\n'"
      ]
     },
     "execution_count": 5,
     "metadata": {},
     "output_type": "execute_result"
    }
   ],
   "source": [
    "\"\"\"\n",
    "#RVB équation T8/T9 en sRVB 8bit et application gamma 2.4\n",
    "R = sRVB[0]\n",
    "V = sRVB[1]\n",
    "B = sRVB[2]\n",
    "\n",
    "def phi(R):\n",
    "    for k in range(len(R)):\n",
    "        if R[k] <= 0.0031308:\n",
    "            R[k] = R[k]*255*12.92\n",
    "        else:\n",
    "            R[k] = 255*(1.055*R[k]**(1/2.4) - 0.055)\n",
    "    return R\n",
    "\n",
    "R_8bit = phi(R)\n",
    "V_8bit = phi(V)\n",
    "B_8bit = phi(B)\n",
    "sRVB_8bit = np.array([R_8bit,V_8bit,B_8bit]).T\n",
    "sRVB_8bit = np.clip(sRVB_8bit, 0, 255).astype(np.uint8)\n",
    "print(sRVB_8bit)\n",
    "#print(np.max(sRVB))\n",
    "#print(np.shape(sRVB_8bit))\n",
    "\"\"\""
   ]
  },
  {
   "cell_type": "code",
   "execution_count": 6,
   "id": "41a90399-8427-44a2-9401-e810e21c37f2",
   "metadata": {},
   "outputs": [
    {
     "data": {
      "text/plain": [
       "'\\n#Fonctionne pas pour Luminence HDR\\n\\n#transformation en tiff\\ndef matrix_to_image(out_matrix, nx, ny, output_filename):\\n    # Reshape the matrix to its original 2D form\\n\\n    b4 = out_matrix[:, 0].reshape((ny, nx))  # B04\\n    b3 = out_matrix[:, 1].reshape((ny, nx))  # B03\\n    b2 = out_matrix[:, 2].reshape((ny, nx))  # B02\\n\\n    # Stack the three bands into an RGB image\\n    rgb_image = np.dstack((b4, b3, b2))\\n\\n    # Save the image (using GDAL)\\n    driver = gdal.GetDriverByName(\\'GTiff\\')\\n    out_ds = driver.Create(output_filename, nx, ny, 3, gdal.GDT_UInt16)\\n    \\n    #Pour les images 8bits\\n    #out_ds = driver.Create(output_filename, nx, ny, 3, gdal.GDT_Byte)\\n    \\n    out_ds.GetRasterBand(1).WriteArray(b4)\\n    out_ds.GetRasterBand(2).WriteArray(b3)\\n    out_ds.GetRasterBand(3).WriteArray(b2)\\n    \\n    out_ds.FlushCache()\\n    out_ds = None  # Close file\\n    \\n\\noutput_filename = \"../image/image_sondage/Alpes/T8/Alpes_10m_16bits.tiff\"\\nmatrix_to_image(RVB_16bit.T, nx, ny, output_filename)\\n'"
      ]
     },
     "execution_count": 6,
     "metadata": {},
     "output_type": "execute_result"
    }
   ],
   "source": [
    "\"\"\"\n",
    "#Fonctionne pas pour Luminence HDR\n",
    "\n",
    "#transformation en tiff\n",
    "def matrix_to_image(out_matrix, nx, ny, output_filename):\n",
    "    # Reshape the matrix to its original 2D form\n",
    "\n",
    "    b4 = out_matrix[:, 0].reshape((ny, nx))  # B04\n",
    "    b3 = out_matrix[:, 1].reshape((ny, nx))  # B03\n",
    "    b2 = out_matrix[:, 2].reshape((ny, nx))  # B02\n",
    "\n",
    "    # Stack the three bands into an RGB image\n",
    "    rgb_image = np.dstack((b4, b3, b2))\n",
    "\n",
    "    # Save the image (using GDAL)\n",
    "    driver = gdal.GetDriverByName('GTiff')\n",
    "    out_ds = driver.Create(output_filename, nx, ny, 3, gdal.GDT_UInt16)\n",
    "    \n",
    "    #Pour les images 8bits\n",
    "    #out_ds = driver.Create(output_filename, nx, ny, 3, gdal.GDT_Byte)\n",
    "    \n",
    "    out_ds.GetRasterBand(1).WriteArray(b4)\n",
    "    out_ds.GetRasterBand(2).WriteArray(b3)\n",
    "    out_ds.GetRasterBand(3).WriteArray(b2)\n",
    "    \n",
    "    out_ds.FlushCache()\n",
    "    out_ds = None  # Close file\n",
    "    \n",
    "\n",
    "output_filename = \"../image/image_sondage/Alpes/T8/Alpes_10m_16bits.tiff\"\n",
    "matrix_to_image(RVB_16bit.T, nx, ny, output_filename)\n",
    "\"\"\"\n"
   ]
  },
  {
   "cell_type": "code",
   "execution_count": 7,
   "id": "a94da348-aac2-4c1c-9ef6-2f2c4622cff3",
   "metadata": {},
   "outputs": [
    {
     "data": {
      "text/plain": [
       "'\\nFonctionne que pour les 8bits\\n#image RVB direct\\nimport imageio.v2 as imageio\\n\\nsRVB_direct = np.clip(RVB*255, 0, 255)\\nprint(sRVB_direct.shape)\\n\\n\\noutput_filename = \"../image/image_equation/Amposta_Spain/Amposta_Spain_direct.tiff\"\\nmatrix_to_image(sRVB_direct_img, nx, ny, output_filename)\\n'"
      ]
     },
     "execution_count": 7,
     "metadata": {},
     "output_type": "execute_result"
    }
   ],
   "source": [
    "\"\"\"\n",
    "Fonctionne que pour les 8bits\n",
    "#image RVB direct\n",
    "import imageio.v2 as imageio\n",
    "\n",
    "sRVB_direct = np.clip(RVB*255, 0, 255)\n",
    "print(sRVB_direct.shape)\n",
    "\n",
    "\n",
    "output_filename = \"../image/image_equation/Amposta_Spain/Amposta_Spain_direct.tiff\"\n",
    "matrix_to_image(sRVB_direct_img, nx, ny, output_filename)\n",
    "\"\"\""
   ]
  },
  {
   "cell_type": "code",
   "execution_count": 8,
   "id": "e760b760-7bfd-4737-82c0-ca2d65ab5032",
   "metadata": {},
   "outputs": [],
   "source": [
    "\n",
    "#Fonctionne pour les 16bits\n",
    "\n",
    "import imageio.v2 as imageio\n",
    "\n",
    "#Matrice 16bits\n",
    "RVB_img_ = RVB_16bit.T.astype(np.uint16) #Attention bien transposé\n",
    "RVB_img = RVB_img_.reshape(ny,nx,3)\n",
    "\n",
    "\n",
    "# Transformer en un format supporté par imageio (par exemple PNG)\n",
    "\n",
    "#output_tiff_filename = \"../image/image_sondage/Arabie_Saoudite/T8/Arabie_Saoudite_20m_16bits.tiff\"\n",
    "output_filename = \"../image/image_sondage/NouvelleCaledonie/T8/NouvelleCaledonie_10m_16bits.tiff\"\n",
    "\n",
    "# Enregistrer l'image\n",
    "imageio.imwrite(output_filename, RVB_img,  format='TIFF')\n",
    "\n"
   ]
  },
  {
   "cell_type": "code",
   "execution_count": 9,
   "id": "c23aac16-e9eb-4557-b3ef-6cff1730aa8f",
   "metadata": {},
   "outputs": [
    {
     "name": "stdout",
     "output_type": "stream",
     "text": [
      "(595, 908, 3)\n",
      "(540260, 3)\n"
     ]
    }
   ],
   "source": [
    "#Fonctionne que pour les 16 bits\n",
    "import imageio.v2 as imageio\n",
    "\n",
    "#Matrice RVB 16bits\n",
    "RVB_ = np.clip(RVB*65535, 0,65535).astype(np.uint16)\n",
    "sRVB_img = RVB_.reshape(ny,nx,3)\n",
    "print(sRVB_img.shape)\n",
    "print(RVB.shape)\n",
    "\n",
    "\n",
    "# Transformer en un format supporté par imageio (par exemple PNG)\n",
    "\n",
    "#output_tiff_filename = \"../image/image_sondage/Arabie_Saoudite/T8/Arabie_Saoudite_20m_16bits.tiff\"\n",
    "output_tiff_filename = \"../image/image_sondage/NouvelleCaledonie/NouvelleCaledonie_16bits.tiff\"\n",
    "\n",
    "# Enregistrer l'image\n",
    "imageio.imwrite(output_tiff_filename, sRVB_img,  format='TIFF')\n"
   ]
  },
  {
   "cell_type": "code",
   "execution_count": null,
   "id": "20b0e746-6cea-49b5-896d-867493bd56b3",
   "metadata": {},
   "outputs": [],
   "source": []
  },
  {
   "cell_type": "code",
   "execution_count": null,
   "id": "cdddff28-da68-4f82-84d4-fb5b7d6d362d",
   "metadata": {},
   "outputs": [],
   "source": []
  }
 ],
 "metadata": {
  "kernelspec": {
   "display_name": "Python 3 (ipykernel)",
   "language": "python",
   "name": "python3"
  },
  "language_info": {
   "codemirror_mode": {
    "name": "ipython",
    "version": 3
   },
   "file_extension": ".py",
   "mimetype": "text/x-python",
   "name": "python",
   "nbconvert_exporter": "python",
   "pygments_lexer": "ipython3",
   "version": "3.9.13"
  }
 },
 "nbformat": 4,
 "nbformat_minor": 5
}

{
 "cells": [
  {
   "cell_type": "code",
   "execution_count": 1,
   "id": "9042c689-a900-476c-85f7-40c5a7ad8977",
   "metadata": {},
   "outputs": [],
   "source": [
    "import csv\n",
    "import numpy as np\n",
    "import sys\n",
    "import os\n",
    "from osgeo import gdal\n",
    "current_dir = os.getcwd()\n",
    "sys.path.append(os.path.join(current_dir,'..','src'))\n",
    "from util import *\n",
    "\n",
    "sys.path.append(os.path.join(current_dir,'..','params'))\n",
    "from load_params import *\n",
    "\n"
   ]
  },
  {
   "cell_type": "code",
   "execution_count": 2,
   "id": "f6ce5d94-55d5-4900-b6eb-4c2fd2b93ffd",
   "metadata": {},
   "outputs": [
    {
     "name": "stdout",
     "output_type": "stream",
     "text": [
      "1.0 0.010400000028312206\n"
     ]
    }
   ],
   "source": [
    "#obtention du tableau RVB à partir des 3 images satellites B2,B3,B4 \n",
    "chemin = os.path.abspath(\"../image\")\n",
    "dossier = os.path.join(chemin,\"Izmir_Turkey\")\n",
    "img = \"2017-08-31-00:00_2017-08-31-23:59_Sentinel-2_L1C\"\n",
    "\n",
    "#image 5\n",
    "#dossier = os.path.join(chemin,\"Carrizo_Plain(California,USA)\")\n",
    "#img = \"2017-03-28-00:00_2017-03-28-23:59_Sentinel-2_L1C\"\n",
    "\n",
    "#image 4\n",
    "#dossier = os.path.join(chemin,\"Amposta(Spain)2\")\n",
    "#img = \"2017-08-04-00:00_2017-08-04-23:59_Sentinel-2_L2A\"\n",
    "\n",
    "#image 3\n",
    "#dossier = os.path.join(chemin,\"Venice(Italy)\")\n",
    "#img = \"2017-07-03-00:00_2017-07-03-23:59_Sentinel-2_L2A\"\n",
    "\n",
    "#image2\n",
    "#dossier = os.path.join(chemin,\"Izmir(Turkey)\")\n",
    "#img = \"2017-08-31-00:00_2017-08-31-23:59_Sentinel-2_L1C\"\n",
    "\n",
    "#image 1\n",
    "#dossier = os.path.join(chemin,\"Mount_Bromo\")\n",
    "#img = \"2016-08-09-00:00_2016-08-09-23:59_Sentinel-2_L1C\"\n",
    "\n",
    "def RVB(root_srcpath, path_name, prod_name):\n",
    "    bnames = ['B04','B03','B02']\n",
    "    \n",
    "    # Obtenir le chemin en entier\n",
    "    srcpath = os.path.join(root_srcpath,path_name)\n",
    "    srcfile = os.path.join(srcpath,prod_name+'_'+bnames[0]+'_Raw.tiff')\n",
    "    src = gdal.Open(srcfile)\n",
    "    \n",
    "    # Obtenir les dimensions de l'image\n",
    "    nx = src.RasterXSize\n",
    "    ny = src.RasterYSize\n",
    "    src = None\n",
    "    \n",
    "    # Préparer la matrice de sortie\n",
    "    out_matrix = np.empty((nx * ny, 3), dtype=float)\n",
    "    \n",
    "    # Charger les bandes et remplir la matrice\n",
    "    for i, bname in enumerate(bnames):\n",
    "        srcfile = os.path.join(srcpath, prod_name + '_' + bname + '_Raw.tiff')\n",
    "        src = gdal.Open(srcfile)\n",
    "                \n",
    "        # Lire la bande entière \n",
    "        arr = src.GetRasterBand(1).ReadAsArray().astype(float) \n",
    "        src = None\n",
    "        \n",
    "        out_matrix[:, i] = arr.flatten()\n",
    "        \n",
    "    return out_matrix, nx, ny\n",
    "RVB, nx, ny = RVB(chemin, dossier, img)\n",
    "\n",
    "RVB = np.clip(RVB, 0,1)\n",
    "#print(np.shape(RVB))\n",
    "print(np.max(RVB),np.min(RVB))"
   ]
  },
  {
   "cell_type": "code",
   "execution_count": 3,
   "id": "fd740225-f7b3-4cda-a08d-203f9a0af3ae",
   "metadata": {},
   "outputs": [
    {
     "name": "stdout",
     "output_type": "stream",
     "text": [
      "1.0879999999999999 0.025353800322860477\n"
     ]
    }
   ],
   "source": [
    "#convertion de RVB en XYZ\n",
    "T_8_new = matrix_s2l2ab4b3b2_to_xyzd65_sovdat2019_eq8_new\n",
    "T_8 = matrix_s2l2ab4b3b2_to_xyzd65_sovdat2019_eq8\n",
    "T_9 = matrix_s2l2ab4b3b2_to_xyzd65_sovdat2019_eq9\n",
    "\n",
    "def RVB_to_XYZ(T, A):\n",
    "    B = A @ T\n",
    "    return B\n",
    "\n",
    "XYZ = RVB_to_XYZ(T_9, RVB)\n",
    "#print(np.shape(XYZ))\n",
    "print(np.max(XYZ),np.min(XYZ))"
   ]
  },
  {
   "cell_type": "code",
   "execution_count": 4,
   "id": "71677c12-3012-4454-b249-883a5649896c",
   "metadata": {},
   "outputs": [
    {
     "name": "stdout",
     "output_type": "stream",
     "text": [
      "1.000443134 0.010377444900457833\n",
      "Rang de la matrice : 3\n"
     ]
    }
   ],
   "source": [
    "# XYZ to sRVB\n",
    "\n",
    "#standart Martix define by CIE\n",
    "M = np.array([[3.240625,-1.537208,-0.498629],\n",
    "             [-0.968931,1.875756,0.041518],\n",
    "             [0.055710, -0.204021,1.056996]])\n",
    "\n",
    "sRVB = M@XYZ.T\n",
    "#print(sRVB)\n",
    "print(np.max(sRVB),np.min(sRVB))\n",
    "sRVB = np.clip(sRVB, 0, 1)\n",
    "#Vérification de la linéarité\n",
    "\n",
    "# Calculer le rang de la matrice\n",
    "rang = np.linalg.matrix_rank(sRVB)\n",
    "print(f\"Rang de la matrice : {rang}\")"
   ]
  },
  {
   "cell_type": "code",
   "execution_count": 5,
   "id": "7b7ddff9-72a2-46f0-9bda-b65f11c67bb9",
   "metadata": {},
   "outputs": [
    {
     "name": "stdout",
     "output_type": "stream",
     "text": [
      "254.99999999999997\n"
     ]
    }
   ],
   "source": [
    "#sRVB en sRVB 8bit\n",
    "R = sRVB[0]\n",
    "V = sRVB[1]\n",
    "B = sRVB[2]\n",
    "\n",
    "def phi(R):\n",
    "    for k in range(len(R)):\n",
    "        if R[k] <= 0.0031308:\n",
    "            R[k] = R[k]*255*12.92\n",
    "        else:\n",
    "            R[k] = 255*(1.055*R[k]**(1/2.4) - 0.055)\n",
    "    return R\n",
    "\n",
    "R_8bit = phi(R)\n",
    "V_8bit = phi(V)\n",
    "B_8bit = phi(B)\n",
    "sRVB_8bit = np.array([R_8bit,V_8bit,B_8bit]).T\n",
    "sRVB_8bit = np.clip(sRVB_8bit, 0, 255).astype(np.uint8)\n",
    "#print(sRVB_8bit)\n",
    "print(np.max(sRVB))\n",
    "#print(np.shape(sRVB_8bit))\n",
    "        "
   ]
  },
  {
   "cell_type": "code",
   "execution_count": 6,
   "id": "41a90399-8427-44a2-9401-e810e21c37f2",
   "metadata": {},
   "outputs": [],
   "source": [
    "#transformation en tiff\n",
    "def matrix_to_image(out_matrix, nx, ny, output_filename):\n",
    "    # Reshape the matrix to its original 2D form\n",
    "    b4 = out_matrix[:, 0].reshape((ny, nx))  # B04\n",
    "    b3 = out_matrix[:, 1].reshape((ny, nx))  # B03\n",
    "    b2 = out_matrix[:, 2].reshape((ny, nx))  # B02\n",
    "\n",
    "    # Stack the three bands into an RGB image\n",
    "    rgb_image = np.dstack((b4, b3, b2))\n",
    "\n",
    "    # Save the image (using GDAL)\n",
    "    driver = gdal.GetDriverByName('GTiff')\n",
    "    out_ds = driver.Create(output_filename, nx, ny, 3, gdal.GDT_Byte)\n",
    "    out_ds.GetRasterBand(1).WriteArray(b4)\n",
    "    out_ds.GetRasterBand(2).WriteArray(b3)\n",
    "    out_ds.GetRasterBand(3).WriteArray(b2)\n",
    "    \n",
    "    out_ds.FlushCache()\n",
    "    out_ds = None  # Close file\n",
    "    \n",
    "\n",
    "output_filename = \"../image/Izmir_Turkey/Izmir_LC1_T9.tiff\"\n",
    "matrix_to_image(sRVB_8bit, nx, ny, output_filename)"
   ]
  },
  {
   "cell_type": "code",
   "execution_count": 7,
   "id": "a94da348-aac2-4c1c-9ef6-2f2c4622cff3",
   "metadata": {},
   "outputs": [],
   "source": [
    "#RVB to sRVB\n",
    "sRVB_direct = np.clip(RVB*255, 0, 255)\n",
    "\n",
    "#output_filename = \"../image/Izmir_Turkey/Izmir_LC1_direct.tiff\"\n",
    "#matrix_to_image(sRVB_direct, nx, ny, output_filename)"
   ]
  }
 ],
 "metadata": {
  "kernelspec": {
   "display_name": "Python 3 (ipykernel)",
   "language": "python",
   "name": "python3"
  },
  "language_info": {
   "codemirror_mode": {
    "name": "ipython",
    "version": 3
   },
   "file_extension": ".py",
   "mimetype": "text/x-python",
   "name": "python",
   "nbconvert_exporter": "python",
   "pygments_lexer": "ipython3",
   "version": "3.9.13"
  }
 },
 "nbformat": 4,
 "nbformat_minor": 5
}

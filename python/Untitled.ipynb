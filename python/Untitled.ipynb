{
 "cells": [
  {
   "cell_type": "code",
   "execution_count": 36,
   "id": "f0224426-b8d1-4baa-89b4-07eb8212d0d4",
   "metadata": {},
   "outputs": [
    {
     "name": "stdout",
     "output_type": "stream",
     "text": [
      "../image/image_sondage/Alpes/Direct/TMO\n",
      "Ferwerda.tif\n",
      "../image/image_sondage/Alpes/Direct/TMO/PNG\n",
      "File successfully to convert\n",
      "Reinhard_02.tif\n",
      "../image/image_sondage/Alpes/Direct/TMO/PNG\n",
      "File successfully to convert\n",
      "KimKautz.tif\n",
      "../image/image_sondage/Alpes/Direct/TMO/PNG\n",
      "File successfully to convert\n",
      "Mantiuk_08.tif\n",
      "../image/image_sondage/Alpes/Direct/TMO/PNG\n",
      "File successfully to convert\n",
      "Fattal.tif\n",
      "../image/image_sondage/Alpes/Direct/TMO/PNG\n",
      "File successfully to convert\n",
      "VanHateren.tif\n",
      "../image/image_sondage/Alpes/Direct/TMO/PNG\n",
      "File successfully to convert\n",
      "gamma.tiff\n",
      "../image/image_sondage/Alpes/Direct/TMO/PNG\n",
      "Error during conversion: cannot identify image file '../image/image_sondage/Alpes/Direct/TMO/gamma.tiff'\n"
     ]
    },
    {
     "ename": "UnidentifiedImageError",
     "evalue": "cannot identify image file '../image/image_sondage/Alpes/Direct/TMO/gamma.tiff'",
     "output_type": "error",
     "traceback": [
      "\u001b[0;31m---------------------------------------------------------------------------\u001b[0m",
      "\u001b[0;31mUnidentifiedImageError\u001b[0m                    Traceback (most recent call last)",
      "\u001b[0;32m/var/folders/4d/tkc4g5fj0zl1gv7spl6tw06h0000gn/T/ipykernel_44706/3834346942.py\u001b[0m in \u001b[0;36m<module>\u001b[0;34m\u001b[0m\n\u001b[1;32m     47\u001b[0m \u001b[0moutput_file_base\u001b[0m \u001b[0;34m=\u001b[0m \u001b[0;34m\"../image/image_sondage/Alpes/Direct/TMO\"\u001b[0m\u001b[0;34m\u001b[0m\u001b[0;34m\u001b[0m\u001b[0m\n\u001b[1;32m     48\u001b[0m \u001b[0mconvert_tiff_to_png_or_jpeg\u001b[0m\u001b[0;34m(\u001b[0m\u001b[0minput_tiff\u001b[0m\u001b[0;34m,\u001b[0m \u001b[0moutput_file_base\u001b[0m\u001b[0;34m,\u001b[0m \u001b[0mformat\u001b[0m\u001b[0;34m=\u001b[0m\u001b[0;34m'PNG'\u001b[0m\u001b[0;34m)\u001b[0m  \u001b[0;31m# Change 'JPEG' to 'PNG' if needed\u001b[0m\u001b[0;34m\u001b[0m\u001b[0;34m\u001b[0m\u001b[0m\n\u001b[0;32m---> 49\u001b[0;31m \u001b[0mimg\u001b[0m \u001b[0;34m=\u001b[0m \u001b[0mImage\u001b[0m\u001b[0;34m.\u001b[0m\u001b[0mopen\u001b[0m\u001b[0;34m(\u001b[0m\u001b[0;34m\"../image/image_sondage/Alpes/Direct/TMO/gamma.tiff\"\u001b[0m\u001b[0;34m)\u001b[0m\u001b[0;34m\u001b[0m\u001b[0;34m\u001b[0m\u001b[0m\n\u001b[0m\u001b[1;32m     50\u001b[0m \u001b[0mprint\u001b[0m\u001b[0;34m(\u001b[0m\u001b[0mtype\u001b[0m\u001b[0;34m(\u001b[0m\u001b[0mimg\u001b[0m\u001b[0;34m)\u001b[0m\u001b[0;34m)\u001b[0m\u001b[0;34m\u001b[0m\u001b[0;34m\u001b[0m\u001b[0m\n",
      "\u001b[0;32m/opt/anaconda3/lib/python3.9/site-packages/PIL/Image.py\u001b[0m in \u001b[0;36mopen\u001b[0;34m(fp, mode, formats)\u001b[0m\n\u001b[1;32m   3145\u001b[0m     \u001b[0;32mfor\u001b[0m \u001b[0mmessage\u001b[0m \u001b[0;32min\u001b[0m \u001b[0maccept_warnings\u001b[0m\u001b[0;34m:\u001b[0m\u001b[0;34m\u001b[0m\u001b[0;34m\u001b[0m\u001b[0m\n\u001b[1;32m   3146\u001b[0m         \u001b[0mwarnings\u001b[0m\u001b[0;34m.\u001b[0m\u001b[0mwarn\u001b[0m\u001b[0;34m(\u001b[0m\u001b[0mmessage\u001b[0m\u001b[0;34m)\u001b[0m\u001b[0;34m\u001b[0m\u001b[0;34m\u001b[0m\u001b[0m\n\u001b[0;32m-> 3147\u001b[0;31m     raise UnidentifiedImageError(\n\u001b[0m\u001b[1;32m   3148\u001b[0m         \u001b[0;34m\"cannot identify image file %r\"\u001b[0m \u001b[0;34m%\u001b[0m \u001b[0;34m(\u001b[0m\u001b[0mfilename\u001b[0m \u001b[0;32mif\u001b[0m \u001b[0mfilename\u001b[0m \u001b[0;32melse\u001b[0m \u001b[0mfp\u001b[0m\u001b[0;34m)\u001b[0m\u001b[0;34m\u001b[0m\u001b[0;34m\u001b[0m\u001b[0m\n\u001b[1;32m   3149\u001b[0m     )\n",
      "\u001b[0;31mUnidentifiedImageError\u001b[0m: cannot identify image file '../image/image_sondage/Alpes/Direct/TMO/gamma.tiff'"
     ]
    }
   ],
   "source": [
    "from PIL import Image, TiffImagePlugin\n",
    "import os\n",
    "\n",
    "\n",
    "# Autoriser Pillow à ignorer certains types d'erreurs dans les TIFF\n",
    "TiffImagePlugin.READ_LIBTIFF = True\n",
    "\n",
    "def convert_tiff_to_png_or_jpeg(input_path, output_path, format='PNG'):\n",
    "    \"\"\"\n",
    "    Convert a TIFF file to PNG or JPEG format.\n",
    "    \n",
    "    :param input_path: Path to the input TIFF file.\n",
    "    :param output_path: Path to the output file (without extension).\n",
    "    :param format: Output format ('JPEG').\n",
    "    \"\"\"\n",
    "    \n",
    "\n",
    "    \n",
    "    # Parcourt tous les fichiers du dossier\n",
    "    os.makedirs(output_path, exist_ok=True)\n",
    "    print(output_path)\n",
    "    for file in os.listdir(input_path):\n",
    "        if file.lower().endswith('.tif') or file.lower().endswith('.tiff'):\n",
    "            output_path = os.path.join(input_path, format)\n",
    "\n",
    "            print(file)\n",
    "            print(output_path)\n",
    "            path = os.path.join(input_path, file)\n",
    "            output_filename = f\"{os.path.splitext(file)[0]}.{format.lower()}\"\n",
    "            output_path = os.path.join(output_path, output_filename)\n",
    "\n",
    "\n",
    "            try:\n",
    "                # Open the TIFF file\n",
    "                with Image.open(path) as img:\n",
    "                    img = img.convert(\"RGBA\")\n",
    "                    # Convert the file and save it\n",
    "                    img.save(output_path, format=format)\n",
    "                    \n",
    "                    print(f\"File successfully to convert\")\n",
    "            except Exception as e:\n",
    "                print(f\"Error during conversion: {e}\")\n",
    "\n",
    "\n",
    "#usage\n",
    "input_tiff = \"../image/image_sondage/Alpes/Direct/TMO\"\n",
    "output_file_base = \"../image/image_sondage/Alpes/Direct/TMO\"\n",
    "convert_tiff_to_png_or_jpeg(input_tiff, output_file_base, format='PNG')  # Change 'JPEG' to 'PNG' if needed\n",
    "img = Image.open(\"../image/image_sondage/Alpes/Direct/TMO/gamma.tiff\")\n",
    "print(type(img))\n"
   ]
  },
  {
   "cell_type": "code",
   "execution_count": null,
   "id": "eb01b2f7-cfc9-4364-a8b5-5167f205f83e",
   "metadata": {},
   "outputs": [],
   "source": []
  },
  {
   "cell_type": "code",
   "execution_count": null,
   "id": "d8514f49-ebae-497a-ac79-f94a90c9fb59",
   "metadata": {},
   "outputs": [],
   "source": []
  }
 ],
 "metadata": {
  "kernelspec": {
   "display_name": "Python 3 (ipykernel)",
   "language": "python",
   "name": "python3"
  },
  "language_info": {
   "codemirror_mode": {
    "name": "ipython",
    "version": 3
   },
   "file_extension": ".py",
   "mimetype": "text/x-python",
   "name": "python",
   "nbconvert_exporter": "python",
   "pygments_lexer": "ipython3",
   "version": "3.9.13"
  }
 },
 "nbformat": 4,
 "nbformat_minor": 5
}

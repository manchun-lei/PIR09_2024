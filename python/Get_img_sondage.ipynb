{
 "cells": [
  {
   "cell_type": "code",
   "execution_count": 1,
   "id": "0def9367-159d-4aab-aeaa-ace82b6ef2c9",
   "metadata": {},
   "outputs": [],
   "source": [
    "import csv\n",
    "import numpy as np\n",
    "import sys\n",
    "import os\n",
    "from osgeo import gdal\n",
    "current_dir = os.getcwd()\n",
    "sys.path.append(os.path.join(current_dir,'..','src'))\n",
    "from util import *\n",
    "\n",
    "sys.path.append(os.path.join(current_dir,'..','params'))\n",
    "from load_params import *\n",
    "\n"
   ]
  },
  {
   "cell_type": "code",
   "execution_count": 2,
   "id": "b8f42492-ec66-47d2-8e5e-cab7b9edb612",
   "metadata": {},
   "outputs": [
    {
     "name": "stdout",
     "output_type": "stream",
     "text": [
      "(1086180, 3)\n"
     ]
    }
   ],
   "source": [
    "#obtention du tableau RVB à partir des 3 images satellites B2,B3,B4 \n",
    "chemin = os.path.abspath(\"../image/image_sondage/Paris\")\n",
    "\n",
    "#génération des images pour le sondage\n",
    "fichier = \"Paris\"\n",
    "resolution = ['10m', '20m', '60m']\n",
    "img = \"2024-10-24-0000_2024-10-24-2359_Sentinel-2_L2A\"\n",
    "RVB_liste = []\n",
    "\n",
    "def RVB(root_srcpath, path_name, prod_name):\n",
    "    bnames = ['B04','B03','B02']\n",
    "    \n",
    "    # Obtenir le chemin en entier\n",
    "    srcpath = os.path.join(root_srcpath,path_name)\n",
    "    srcfile = os.path.join(srcpath,prod_name+'_'+bnames[0]+'_Raw.tiff')\n",
    "    src = gdal.Open(srcfile)\n",
    "    \n",
    "    # Obtenir les dimensions de l'image\n",
    "    nx = src.RasterXSize\n",
    "    ny = src.RasterYSize\n",
    "    src = None\n",
    "    \n",
    "    # Préparer la matrice de sortie\n",
    "    out_matrix = np.empty((nx * ny, 3), dtype=float)\n",
    "    \n",
    "    # Charger les bandes et remplir la matrice\n",
    "    for i, bname in enumerate(bnames):\n",
    "        srcfile = os.path.join(srcpath, prod_name + '_' + bname + '_Raw.tiff')\n",
    "        src = gdal.Open(srcfile)\n",
    "                \n",
    "        # Lire la bande entière \n",
    "        arr = src.GetRasterBand(1).ReadAsArray().astype(float) \n",
    "        src = None\n",
    "        \n",
    "        out_matrix[:, i] = arr.flatten()\n",
    "        \n",
    "    return out_matrix, nx, ny\n",
    "               \n",
    "for k in range(len(resolution)):\n",
    "    dossier = os.path.join(chemin,fichier+'_'+resolution[k])\n",
    "    RVB_, nx, ny = RVB(chemin, dossier, img)\n",
    "    RVB_ = np.clip(RVB_, 0,1)\n",
    "    RVB_liste.append(RVB_)\n",
    "               \n",
    "print(np.shape(RVB_liste[0]))"
   ]
  },
  {
   "cell_type": "code",
   "execution_count": 3,
   "id": "ca317641-864c-4ec0-8c51-8071098b9484",
   "metadata": {},
   "outputs": [
    {
     "name": "stdout",
     "output_type": "stream",
     "text": [
      "(1086180, 3)\n"
     ]
    }
   ],
   "source": [
    "\n",
    "#convertion de RVB en XYZ\n",
    "T_8_new = matrix_s2l2ab4b3b2_to_xyzd65_sovdat2019_eq8_new\n",
    "T_8 = matrix_s2l2ab4b3b2_to_xyzd65_sovdat2019_eq8\n",
    "T_9 = matrix_s2l2ab4b3b2_to_xyzd65_sovdat2019_eq9\n",
    "\n",
    "def RVB_to_XYZ(T, A):\n",
    "    B = A @ T\n",
    "    return B\n",
    "\n",
    "XYZ = []\n",
    "equation = [T_8_new, T_9]\n",
    "for i in range(len(equation)):\n",
    "    L = []\n",
    "    for k in range(len(RVB_liste)):   \n",
    "        XYZ_ = RVB_to_XYZ(equation[i], RVB_liste[k])\n",
    "        L.append(XYZ_)\n",
    "    XYZ.append(L)\n",
    "\n",
    "#print(np.shape(XYZ))\n",
    "print(np.shape(XYZ[0][0]))\n"
   ]
  },
  {
   "cell_type": "code",
   "execution_count": 4,
   "id": "dbc38362-7eaf-4dd9-8715-9bd32276bb4c",
   "metadata": {},
   "outputs": [
    {
     "name": "stdout",
     "output_type": "stream",
     "text": [
      "[0.05109833 0.08214302 0.09416723 ... 0.05834923 0.07315035 0.08387036]\n"
     ]
    }
   ],
   "source": [
    "# XYZ to sRVB\n",
    "\n",
    "#standart Martix define by CIE\n",
    "M = np.array([[3.240625,-1.537208,-0.498629],\n",
    "             [-0.968931,1.875756,0.041518],\n",
    "             [0.055710, -0.204021,1.056996]])\n",
    "\n",
    "sRVB = []\n",
    "for i in range(len(equation)):\n",
    "    L = []\n",
    "    for k in range(len(resolution)):\n",
    "        sRVB_ = M@XYZ[i][k].T\n",
    "        sRVB_ = np.clip(sRVB_, 0, 1)\n",
    "        L.append(sRVB_)\n",
    "    sRVB.append(L)\n",
    "    \n",
    "    \n",
    "print(sRVB[0][0][0])\n"
   ]
  },
  {
   "cell_type": "code",
   "execution_count": 8,
   "id": "87cf6402-5491-4643-9378-a5945571940e",
   "metadata": {},
   "outputs": [
    {
     "name": "stdout",
     "output_type": "stream",
     "text": [
      "[3942169.37845139 4350675.57371297 4472944.97437832 ... 4053920.48292769\n",
      " 4248613.16689823 4369158.73285964]\n",
      "(2, 3)\n",
      "Ok\n"
     ]
    },
    {
     "name": "stderr",
     "output_type": "stream",
     "text": [
      "/opt/anaconda3/lib/python3.9/site-packages/numpy/core/fromnumeric.py:1970: VisibleDeprecationWarning: Creating an ndarray from ragged nested sequences (which is a list-or-tuple of lists-or-tuples-or ndarrays with different lengths or shapes) is deprecated. If you meant to do this, you must specify 'dtype=object' when creating the ndarray.\n",
      "  result = asarray(a).shape\n"
     ]
    }
   ],
   "source": [
    "#sRVB en sRVB 8bit et application gamma 2.4\n",
    "def phi(R):\n",
    "    for k in range(len(R)):\n",
    "        if R[k] <= 0.0031308:\n",
    "            R[k] = R[k]*65535*12.92\n",
    "        else:\n",
    "            R[k] = 65535*(1.055*R[k]**(1/2.4) - 0.055)\n",
    "    return R\n",
    "\n",
    "sRVB_16bit = []\n",
    "print(sRVB[0][0][0])\n",
    "\n",
    "\n",
    "for i in range(len(equation)): #on fait pour l'quation T9 et T8\n",
    "    L = []\n",
    "    for k in range(len(resolution)):#on fait pour toutes les résolutions\n",
    "        R = sRVB[i][k][0]\n",
    "        V = sRVB[i][k][1]\n",
    "        B = sRVB[i][k][2]\n",
    "        \n",
    "        R_16bit = phi(R)\n",
    "        V_16bit = phi(V)\n",
    "        B_16bit = phi(B)\n",
    "        \n",
    "        sRVB_16bit_ = np.array([R_16bit,V_16bit,B_16bit]).T\n",
    "\n",
    "        sRVB_16bit_ = np.clip(sRVB_16bit, 0, 65535).astype(np.uint16)\n",
    "        L.append(sRVB_16bit_)\n",
    "        \n",
    "    sRVB_16bit.append(L)\n",
    "\n",
    "print(np.shape(sRVB_16bit))\n",
    "print('Ok')"
   ]
  },
  {
   "cell_type": "code",
   "execution_count": 6,
   "id": "9fcb3463-eafe-4d65-aac5-5d7089815a9e",
   "metadata": {},
   "outputs": [
    {
     "name": "stdout",
     "output_type": "stream",
     "text": [
      "[[array([], dtype=uint16), array([], dtype=uint16), array([], dtype=uint16)], [array([], shape=(1, 3, 0), dtype=uint16), array([], shape=(1, 3, 0), dtype=uint16), array([], shape=(1, 3, 0), dtype=uint16)]]\n"
     ]
    },
    {
     "ename": "ValueError",
     "evalue": "cannot reshape array of size 0 into shape (140,215,3)",
     "output_type": "error",
     "traceback": [
      "\u001b[0;31m---------------------------------------------------------------------------\u001b[0m",
      "\u001b[0;31mValueError\u001b[0m                                Traceback (most recent call last)",
      "\u001b[0;32m/var/folders/4d/tkc4g5fj0zl1gv7spl6tw06h0000gn/T/ipykernel_93598/992512572.py\u001b[0m in \u001b[0;36m<module>\u001b[0;34m\u001b[0m\n\u001b[1;32m      5\u001b[0m     \u001b[0;31m#Matrice 16bits\u001b[0m\u001b[0;34m\u001b[0m\u001b[0;34m\u001b[0m\u001b[0m\n\u001b[1;32m      6\u001b[0m     \u001b[0mprint\u001b[0m\u001b[0;34m(\u001b[0m\u001b[0msRVB_16bit\u001b[0m\u001b[0;34m)\u001b[0m\u001b[0;34m\u001b[0m\u001b[0;34m\u001b[0m\u001b[0m\n\u001b[0;32m----> 7\u001b[0;31m     \u001b[0msRVB_img_T8\u001b[0m \u001b[0;34m=\u001b[0m \u001b[0msRVB_16bit\u001b[0m\u001b[0;34m[\u001b[0m\u001b[0;36m0\u001b[0m\u001b[0;34m]\u001b[0m\u001b[0;34m[\u001b[0m\u001b[0mk\u001b[0m\u001b[0;34m]\u001b[0m\u001b[0;34m.\u001b[0m\u001b[0mreshape\u001b[0m\u001b[0;34m(\u001b[0m\u001b[0mny\u001b[0m\u001b[0;34m,\u001b[0m\u001b[0mnx\u001b[0m\u001b[0;34m,\u001b[0m\u001b[0;36m3\u001b[0m\u001b[0;34m)\u001b[0m\u001b[0;34m\u001b[0m\u001b[0;34m\u001b[0m\u001b[0m\n\u001b[0m\u001b[1;32m      8\u001b[0m     \u001b[0msRVB_img_T9\u001b[0m \u001b[0;34m=\u001b[0m \u001b[0msRVB_16bit\u001b[0m\u001b[0;34m[\u001b[0m\u001b[0;36m1\u001b[0m\u001b[0;34m]\u001b[0m\u001b[0;34m[\u001b[0m\u001b[0mk\u001b[0m\u001b[0;34m]\u001b[0m\u001b[0;34m.\u001b[0m\u001b[0mreshape\u001b[0m\u001b[0;34m(\u001b[0m\u001b[0mny\u001b[0m\u001b[0;34m,\u001b[0m\u001b[0mnx\u001b[0m\u001b[0;34m,\u001b[0m\u001b[0;36m3\u001b[0m\u001b[0;34m)\u001b[0m\u001b[0;34m\u001b[0m\u001b[0;34m\u001b[0m\u001b[0m\n\u001b[1;32m      9\u001b[0m \u001b[0;34m\u001b[0m\u001b[0m\n",
      "\u001b[0;31mValueError\u001b[0m: cannot reshape array of size 0 into shape (140,215,3)"
     ]
    }
   ],
   "source": [
    "\n",
    "#gdal en imageio\n",
    "import imageio.v2 as imageio\n",
    "\n",
    "for k in range(len(resolution)):\n",
    "    #Matrice 16bits\n",
    "    sRVB_img_T8 = sRVB_16bit[0][k].reshape(ny,nx,3)\n",
    "    sRVB_img_T9 = sRVB_16bit[1][k].reshape(ny,nx,3)\n",
    "\n",
    "    # Transformer en un format supporté par imageio (par exemple PNG)\n",
    "    output_tiff_filename_T8 = \"../image/image_sondage/T8/\"+fichier+resolution[k]+\"_T8_new_16bits.tiff\"\n",
    "    output_tiff_filename_T9 = \"../image/image_sondage/T9/\"+fichier+resolution[k]+\"_T9_16bits.tiff\"\n",
    "\n",
    "    # Enregistrer l'image\n",
    "    imageio.imwrite(output_tiff_filename_T8, sRVB_img_T8,  format='TIFF')\n",
    "    imageio.imwrite(output_tiff_filename_T9, sRVB_img_T9,  format='TIFF')\n"
   ]
  },
  {
   "cell_type": "code",
   "execution_count": null,
   "id": "c3885434-3f2f-4359-a9dc-3609704f7e71",
   "metadata": {},
   "outputs": [],
   "source": []
  }
 ],
 "metadata": {
  "kernelspec": {
   "display_name": "Python 3 (ipykernel)",
   "language": "python",
   "name": "python3"
  },
  "language_info": {
   "codemirror_mode": {
    "name": "ipython",
    "version": 3
   },
   "file_extension": ".py",
   "mimetype": "text/x-python",
   "name": "python",
   "nbconvert_exporter": "python",
   "pygments_lexer": "ipython3",
   "version": "3.9.13"
  }
 },
 "nbformat": 4,
 "nbformat_minor": 5
}

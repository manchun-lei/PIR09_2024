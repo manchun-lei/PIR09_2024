{
 "cells": [
  {
   "cell_type": "markdown",
   "id": "022f2b90",
   "metadata": {},
   "source": [
    "# Ajouter une explication de votre méthode ici\n",
    "\n",
    "# PS: Il y a des fonctions utiles dans /src/util.py et src/plots.py\n",
    "ds = read_csv(csvfile) - read csv file, and return as dict type\n",
    "\n",
    "write(csvfile,mydict) - write a dict type data in csv file"
   ]
  },
  {
   "cell_type": "code",
   "execution_count": 2,
   "id": "82c3d2cd",
   "metadata": {},
   "outputs": [
    {
     "name": "stdout",
     "output_type": "stream",
     "text": [
      "The autoreload extension is already loaded. To reload it, use:\n",
      "  %reload_ext autoreload\n"
     ]
    }
   ],
   "source": [
    "%load_ext autoreload\n",
    "%autoreload 2\n",
    "import os \n",
    "\n",
    "import numpy as np\n",
    "import matplotlib.pyplot as plt\n",
    "import sys\n",
    "\n",
    "current_dir = os.getcwd()\n",
    "\n",
    "sys.path.append(os.path.abspath(os.path.join(current_dir, '..')))\n",
    "from src import *\n"
   ]
  },
  {
   "cell_type": "code",
   "execution_count": 3,
   "id": "5a002797",
   "metadata": {},
   "outputs": [],
   "source": [
    "# load s2 rad and xyz data\n",
    "ds_xyz = read_csv(os.path.join(current_dir,'..','Simulation','xyz_ECOSTRESS.csv'))\n",
    "ds_rho_s2a = read_csv(os.path.join(current_dir,'..','Simulation','rho_ECOSTRESS_S2A.csv'))\n",
    "ds_rho_s2b = read_csv(os.path.join(current_dir,'..','Simulation','rho_ECOSTRESS_S2B.csv'))\n",
    "ds_rho_s2 = [ds_rho_s2a,ds_rho_s2b]\n",
    "s2_bnames = ['B4','B3','B2']\n",
    "xyz_names = ['X','Y','Z']\n",
    "sensor_names = ['S2A','S2B']\n",
    "\n",
    "# load train fname list\n",
    "f = open(os.path.join(current_dir,'..','Simulation','fnames_train.txt'),\"r\")\n",
    "fnames_test = f.read().splitlines()\n",
    "f.close()\n",
    "\n",
    "def get_inds(fnames,fnames_sub):\n",
    "    inds = []\n",
    "    for fname in fnames_sub:\n",
    "        inds.append(fnames.index(fname))\n",
    "    return inds\n",
    "inds = get_inds(ds_xyz['NAME'],fnames_test)\n",
    "\n",
    "def build_sub_dataset(ds,inds):\n",
    "    mydict = {}\n",
    "    for key in list(ds.keys()):\n",
    "        mydict[key] = np.array(ds[key])[inds]\n",
    "    return mydict\n",
    "\n",
    "ds_rho_s2_sub = []\n",
    "for ds in ds_rho_s2:\n",
    "    ds_rho_s2_sub.append(build_sub_dataset(ds,inds))\n",
    "\n",
    "ds_xyz_sub = build_sub_dataset(ds_xyz,inds)"
   ]
  },
  {
   "cell_type": "code",
   "execution_count": 15,
   "id": "7f1d1c74",
   "metadata": {},
   "outputs": [
    {
     "name": "stdout",
     "output_type": "stream",
     "text": [
      "Fit RMSE = 0.009040559569658284\n",
      "Estimated d65 (B4,B3,B2)\n",
      "[0.80450672 1.02140103 1.08628878]\n",
      "Modified Matrix\n",
      "[[ 0.29847199  0.13998417 -0.03459379]\n",
      " [ 0.36974717  0.59956241 -0.43613824]\n",
      " [ 0.29112539  0.26070931  1.58924048]]\n"
     ]
    }
   ],
   "source": [
    "def moindre_carre(B,A):\n",
    "    # Karine Ye and Anthony Evrard \n",
    "    P = np.eye(len(A))\n",
    "    N = (A.T)@P@A\n",
    "    K = (A.T)@P@B\n",
    "    X = np.linalg.inv(N)@K\n",
    "    V = B - A @ X\n",
    "    n = len(A)\n",
    "    p = len(A[0])\n",
    "    sigma_2 = V.T@P@V/(n-p)\n",
    "    Q = (sigma_2)*(np.linalg.inv(A.T@P@A))\n",
    "    return X, Q, sigma_2, V\n",
    "\n",
    "def inversion_d65(ds_s2,ds_xyz,matrix):\n",
    "    # B = A X with B[mxkxs,1], A1[mxkxs, n] X[n,1], m is the number of samples, n is number of band, k is number of XYZ, s is number of sensor\n",
    "    s2_bnames = ['B4','B3','B2']\n",
    "    xyz_names = ['X','Y','Z']\n",
    "    s = len(ds_s2)\n",
    "    m = len(ds_s2[0]['B4'])\n",
    "    n = len(s2_bnames)\n",
    "    k = len(xyz_names)\n",
    "    A = np.empty([m*k*s,n],dtype=float)\n",
    "    B = np.empty([m*k*s,1],dtype=float)\n",
    "    \n",
    "    cpt = 0\n",
    "    for ss in range(s):\n",
    "        for kk in range(k):\n",
    "            for mm in range(m):\n",
    "                B[cpt,0] = ds_xyz[xyz_names[kk]][mm]\n",
    "                for nn in range(n):\n",
    "                    A[cpt,nn] = ds_s2[ss][s2_bnames[nn]][mm]*matrix[nn,kk]\n",
    "                cpt += 1\n",
    "\n",
    "\n",
    "    X, Q, sigma_2, V = moindre_carre(B,A)\n",
    "    B1 =  A@X\n",
    "    print('Fit RMSE =',np.sqrt(np.mean((B.flatten()-B1.flatten())**2)))\n",
    "    \n",
    "    new_matrix = matrix.copy()\n",
    "    for kk in range(k):\n",
    "        for nn in range(n):\n",
    "            new_matrix[nn,kk] = matrix[nn,kk]*X[nn]\n",
    "    return X,A,B,B1,new_matrix\n",
    "\n",
    "\n",
    "X_out,A,B,B1,new_matrix = inversion_d65(ds_rho_s2_sub,ds_xyz_sub,matrix)\n",
    "print('Estimated d65 (B4,B3,B2)')\n",
    "print(X_out.flatten())\n",
    "print('Modified Matrix')\n",
    "print(new_matrix)\n"
   ]
  }
 ],
 "metadata": {
  "kernelspec": {
   "display_name": "Python 3 (ipykernel)",
   "language": "python",
   "name": "python3"
  },
  "language_info": {
   "codemirror_mode": {
    "name": "ipython",
    "version": 3
   },
   "file_extension": ".py",
   "mimetype": "text/x-python",
   "name": "python",
   "nbconvert_exporter": "python",
   "pygments_lexer": "ipython3",
   "version": "3.9.13"
  }
 },
 "nbformat": 4,
 "nbformat_minor": 5
}

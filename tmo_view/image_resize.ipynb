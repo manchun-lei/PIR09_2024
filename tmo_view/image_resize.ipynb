{
 "cells": [
  {
   "cell_type": "code",
   "execution_count": 6,
   "id": "f04feb49-f6ff-4ef5-841c-20c40ff6b27e",
   "metadata": {},
   "outputs": [
    {
     "name": "stdout",
     "output_type": "stream",
     "text": [
      "image resizer done, Ferwerda_resized.png\n"
     ]
    }
   ],
   "source": [
    "from PIL import Image\n",
    "import os\n",
    "def resizer(srcfile,desired_width,dstfile):\n",
    "    image = Image.open(srcfile)\n",
    "    original_width, original_height = image.size\n",
    "    original_width, original_height = image.size\n",
    "    aspect_ratio = original_height / original_width\n",
    "    new_height = int(desired_width * aspect_ratio)\n",
    "    # Resize the image\n",
    "    resized_image = image.resize((desired_width, new_height), Image.LANCZOS)\n",
    "    # Save the resized image\n",
    "    resized_image.save(dstfile)\n",
    "    print('image resizer done,',dstfile)\n",
    "\n",
    "# # exemple\n",
    "# srcflist = [] # your input gamma2 file list\n",
    "# dstpath = '' # your dstfile path\n",
    "# for srcfile in srcflist:\n",
    "#     fname = os.path.splitext(os.path.basename(srcfile))[0]\n",
    "#     dstfile = os.path.join(dstpath,fname+'_resized.png')\n",
    "#     resizer(srcfile,200,dstfile)"
   ]
  }
 ],
 "metadata": {
  "kernelspec": {
   "display_name": "Python 3 (ipykernel)",
   "language": "python",
   "name": "python3"
  },
  "language_info": {
   "codemirror_mode": {
    "name": "ipython",
    "version": 3
   },
   "file_extension": ".py",
   "mimetype": "text/x-python",
   "name": "python",
   "nbconvert_exporter": "python",
   "pygments_lexer": "ipython3",
   "version": "3.12.7"
  }
 },
 "nbformat": 4,
 "nbformat_minor": 5
}

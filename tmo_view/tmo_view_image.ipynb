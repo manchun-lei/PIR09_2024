{
 "cells": [
  {
   "cell_type": "code",
<<<<<<< HEAD
   "execution_count": 2,
   "id": "dfdcc924-d626-4995-906e-fffffc1e1c4a",
   "metadata": {},
   "outputs": [],
   "source": [
    "from PIL import Image, ImageDraw, ImageFont\n",
    "import math\n",
    "\n",
    "def image_combiner(flist, number_of_column, start_offset=(10,10), font_size=40,dstfile=None):\n",
    "    \"\"\"\n",
    "    Combine images from flist into a single image arranged in rows and columns.\n",
    "\n",
    "    Args:\n",
    "        flist (list): List of image file paths.\n",
    "        number_of_column (int): Number of images per row.\n",
    "        ix (int): X-coordinate of the number to be displayed on each image.\n",
    "        iy (int): Y-coordinate of the number to be displayed on each image.\n",
    "        font_size (int, optional): Font size for numbering. Defaults to 20.\n",
    "\n",
    "    Returns:\n",
    "        Image: Combined image.\n",
    "    \"\"\"\n",
    "    if not flist:\n",
    "        raise ValueError(\"The image list is empty.\")\n",
    "\n",
    "    # Load all images and ensure they have the same size\n",
    "    images = [Image.open(file) for file in flist]\n",
    "    width, height = images[0].size\n",
    "    \n",
    "    for img in images:\n",
    "        if img.size != (width, height):\n",
    "            raise ValueError(\"All images must have the same size.\")\n",
    "\n",
    "    # Determine the number of rows\n",
    "    number_of_rows = math.ceil(len(flist) / number_of_column)\n",
    "\n",
    "    # ix,iy offset for print image number\n",
    "    ix,iy = start_offset\n",
    "    # Create the output image\n",
    "    combined_width = number_of_column * width\n",
    "    combined_height = number_of_rows * height\n",
    "    combined_image = Image.new(\"RGB\", (combined_width, combined_height))\n",
    "\n",
    "    # Use a default font with a specified size\n",
    "    try:\n",
    "        font = ImageFont.truetype(\"arial.ttf\", font_size)\n",
    "    except IOError:\n",
    "        # If the default font is unavailable, use a simple bitmap font\n",
    "        font = ImageFont.load_default()\n",
    "\n",
    "    # Paste each image into the combined image\n",
    "    for idx, img in enumerate(images):\n",
    "        row, col = divmod(idx, number_of_column)\n",
    "        x_offset = col * width\n",
    "        y_offset = row * height\n",
    "        combined_image.paste(img, (x_offset, y_offset))\n",
    "\n",
    "        # Draw the number on the image\n",
    "        draw = ImageDraw.Draw(combined_image)\n",
    "        draw.text((x_offset + ix, y_offset + iy), str(idx + 1), fill=\"red\", font=font)\n",
    "\n",
    "    if dstfile is not None:\n",
    "        combined_image.save(dstfile)\n",
    "        print('Combined image save to '+dstfile)\n",
    "    \n",
    "    return combined_image"
   ]
  },
  {
   "cell_type": "code",
   "execution_count": 4,
   "id": "64566efd-8db4-4adc-811d-d2df0a90ae99",
=======
   "execution_count": 4,
   "id": "e64a6dcd-2b69-431d-9e04-e76a3b124f7f",
>>>>>>> 9900a330d953905bd068b8c1e44a02f551e4aa7c
   "metadata": {},
   "outputs": [
    {
     "name": "stdout",
     "output_type": "stream",
     "text": [
<<<<<<< HEAD
      "Combined image save to D:\\StandardDynamicRangeImaging\\TrueColorImagery\\PIR09_2024\\tmo_view\\Alpes.png\n",
      "Combined image save to D:\\StandardDynamicRangeImaging\\TrueColorImagery\\PIR09_2024\\tmo_view\\Amazonie.png\n",
      "Combined image save to D:\\StandardDynamicRangeImaging\\TrueColorImagery\\PIR09_2024\\tmo_view\\Arabie_Saoudite.png\n",
      "Combined image save to D:\\StandardDynamicRangeImaging\\TrueColorImagery\\PIR09_2024\\tmo_view\\Egypte.png\n",
      "Combined image save to D:\\StandardDynamicRangeImaging\\TrueColorImagery\\PIR09_2024\\tmo_view\\Everest.png\n",
      "Combined image save to D:\\StandardDynamicRangeImaging\\TrueColorImagery\\PIR09_2024\\tmo_view\\Foret_chilie.png\n",
      "Combined image save to D:\\StandardDynamicRangeImaging\\TrueColorImagery\\PIR09_2024\\tmo_view\\NewYork.png\n",
      "Combined image save to D:\\StandardDynamicRangeImaging\\TrueColorImagery\\PIR09_2024\\tmo_view\\NouvelleCaledonie.png\n",
      "Combined image save to D:\\StandardDynamicRangeImaging\\TrueColorImagery\\PIR09_2024\\tmo_view\\Pacifique.png\n",
      "Combined image save to D:\\StandardDynamicRangeImaging\\TrueColorImagery\\PIR09_2024\\tmo_view\\Paris.png\n"
=======
      "The autoreload extension is already loaded. To reload it, use:\n",
      "  %reload_ext autoreload\n"
>>>>>>> 9900a330d953905bd068b8c1e44a02f551e4aa7c
     ]
    }
   ],
   "source": [
<<<<<<< HEAD
    "import os\n",
    "import glob\n",
    "import numpy as np\n",
    "current_dir = os.getcwd()\n",
=======
    "%load_ext autoreload\n",
    "%autoreload 2\n",
    "import os\n",
    "import glob\n",
    "from PIL import Image\n",
    "import numpy as np\n",
    "current_dir = os.getcwd()"
   ]
  },
  {
   "cell_type": "code",
   "execution_count": 5,
   "id": "64566efd-8db4-4adc-811d-d2df0a90ae99",
   "metadata": {},
   "outputs": [],
   "source": [
    "def merge_image_lists(list1, list2, list3, output_path=\"merged_image.png\"):\n",
    "    \"\"\"\n",
    "    Merge three lists of images into one large image, where each row contains the images from one list.\n",
    "\n",
    "    :param list1: List of image paths (row 1).\n",
    "    :param list2: List of image paths (row 2).\n",
    "    :param list3: List of image paths (row 3).\n",
    "    :param output_path: Path to save the merged image.\n",
    "    \"\"\"\n",
    "    # Combine all lists into one for processing\n",
    "    image_lists = [list1, list2, list3]\n",
    "    \n",
    "    # Open all images in the lists\n",
    "    image_arrays = [[Image.open(img_path) for img_path in image_list] for image_list in image_lists]\n",
    "    print(image_arrays)\n",
    "    \n",
    "    # Ensure all images have the same dimensions\n",
    "    widths, heights = zip(*(img.size for row in image_arrays for img in row))\n",
    "    max_width = max(widths)\n",
    "    max_height = max(heights)\n",
    "    \n",
    "    # Resize images to ensure uniformity\n",
    "    image_arrays = [\n",
    "        [img.resize((max_width, max_height)) for img in row] for row in image_arrays\n",
    "    ]\n",
    "    \n",
    "    # Calculate the size of the final combined image\n",
    "    total_width = max_width * len(list1)\n",
    "    total_height = max_height * len(image_lists)\n",
    "    \n",
    "    # Create a blank canvas\n",
    "    merged_image = Image.new(\"RGB\", (total_width, total_height))\n",
    "    \n",
    "    # Paste each image onto the canvas\n",
    "    for row_index, row_images in enumerate(image_arrays):\n",
    "        for col_index, img in enumerate(row_images):\n",
    "            x_offset = col_index * max_width\n",
    "            y_offset = row_index * max_height\n",
    "            merged_image.paste(img, (x_offset, y_offset))\n",
    "    \n",
    "    # Save the final image\n",
    "    merged_image.save(output_path)\n",
    "    print(f\"Merged image saved to {output_path}\")\n",
    "\n",
    "\n",
>>>>>>> 9900a330d953905bd068b8c1e44a02f551e4aa7c
    "def get_subdirs(path):\n",
    "    try:\n",
    "        subdirs = [d for d in os.listdir(path) if os.path.isdir(os.path.join(path, d))]\n",
    "        return subdirs\n",
    "    except FileNotFoundError:\n",
    "        return []\n",
    "    except PermissionError:\n",
    "        return []\n",
    "\n",
    "def get_flists(root_srcpath):\n",
    "    tnames = ['Direct','T9','T8']\n",
    "    out = []\n",
    "    for tname in tnames:\n",
    "        srcpath = os.path.join(root_srcpath,tname,'TMO')\n",
    "        flist = glob.glob(os.path.join(srcpath,'*.tif'))\n",
<<<<<<< HEAD
    "        out+=flist\n",
=======
    "        out.append(flist)\n",
>>>>>>> 9900a330d953905bd068b8c1e44a02f551e4aa7c
    "    return out\n",
    "\n",
    "root_srcpath = os.path.join(current_dir,'..',r'image\\image_sondage')\n",
    "snames = get_subdirs(root_srcpath)\n",
    "\n",
    "for sname in snames[0:]:\n",
    "    sub_root_srcpath = os.path.join(root_srcpath,sname)\n",
<<<<<<< HEAD
    "    flist = get_flists(sub_root_srcpath)\n",
    "    dstfile = os.path.join(current_dir,sname+'.png')\n",
    "    combined = image_combiner(flist, number_of_column=6, start_offset=(10,10), font_size=40,dstfile=dstfile)"
   ]
=======
    "    list1,list2,list3 = get_flists(sub_root_srcpath)\n",
    "    dstfile = os.path.join(current_dir,sname+'.png')\n",
    "    merge_image_lists(list1, list2, list3,dstfile)"
   ]
  },
  {
   "cell_type": "code",
   "execution_count": null,
   "id": "e0df7e9f-131f-4602-a9bb-58933bbb9683",
   "metadata": {},
   "outputs": [],
   "source": []
>>>>>>> 9900a330d953905bd068b8c1e44a02f551e4aa7c
  }
 ],
 "metadata": {
  "kernelspec": {
   "display_name": "Python 3 (ipykernel)",
   "language": "python",
   "name": "python3"
  },
  "language_info": {
   "codemirror_mode": {
    "name": "ipython",
    "version": 3
   },
   "file_extension": ".py",
   "mimetype": "text/x-python",
   "name": "python",
   "nbconvert_exporter": "python",
   "pygments_lexer": "ipython3",
<<<<<<< HEAD
   "version": "3.12.7"
=======
   "version": "3.9.13"
>>>>>>> 9900a330d953905bd068b8c1e44a02f551e4aa7c
  }
 },
 "nbformat": 4,
 "nbformat_minor": 5
}

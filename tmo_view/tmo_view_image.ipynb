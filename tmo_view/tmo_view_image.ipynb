{
 "cells": [
  {
   "cell_type": "code",
   "execution_count": 1,
   "id": "e64a6dcd-2b69-431d-9e04-e76a3b124f7f",
   "metadata": {},
   "outputs": [],
   "source": [
    "%load_ext autoreload\n",
    "%autoreload 2\n",
    "import os\n",
    "import glob\n",
    "from PIL import Image\n",
    "import numpy as np\n",
    "current_dir = os.getcwd()"
   ]
  },
  {
   "cell_type": "code",
   "execution_count": 2,
   "id": "64566efd-8db4-4adc-811d-d2df0a90ae99",
   "metadata": {},
   "outputs": [
    {
     "name": "stdout",
     "output_type": "stream",
     "text": [
      "Merged image saved to D:\\StandardDynamicRangeImaging\\TrueColorImagery\\PIR09_2024\\tmo_view\\Alpes.png\n",
      "Merged image saved to D:\\StandardDynamicRangeImaging\\TrueColorImagery\\PIR09_2024\\tmo_view\\Amazonie.png\n",
      "Merged image saved to D:\\StandardDynamicRangeImaging\\TrueColorImagery\\PIR09_2024\\tmo_view\\Arabie_Saoudite.png\n",
      "Merged image saved to D:\\StandardDynamicRangeImaging\\TrueColorImagery\\PIR09_2024\\tmo_view\\Egypte.png\n",
      "Merged image saved to D:\\StandardDynamicRangeImaging\\TrueColorImagery\\PIR09_2024\\tmo_view\\Everest.png\n",
      "Merged image saved to D:\\StandardDynamicRangeImaging\\TrueColorImagery\\PIR09_2024\\tmo_view\\Foret_chilie.png\n",
      "Merged image saved to D:\\StandardDynamicRangeImaging\\TrueColorImagery\\PIR09_2024\\tmo_view\\NewYork.png\n",
      "Merged image saved to D:\\StandardDynamicRangeImaging\\TrueColorImagery\\PIR09_2024\\tmo_view\\NouvelleCaledonie.png\n",
      "Merged image saved to D:\\StandardDynamicRangeImaging\\TrueColorImagery\\PIR09_2024\\tmo_view\\Pacifique.png\n",
      "Merged image saved to D:\\StandardDynamicRangeImaging\\TrueColorImagery\\PIR09_2024\\tmo_view\\Paris.png\n"
     ]
    }
   ],
   "source": [
    "def merge_image_lists(list1, list2, list3, output_path=\"merged_image.png\"):\n",
    "    \"\"\"\n",
    "    Merge three lists of images into one large image, where each row contains the images from one list.\n",
    "\n",
    "    :param list1: List of image paths (row 1).\n",
    "    :param list2: List of image paths (row 2).\n",
    "    :param list3: List of image paths (row 3).\n",
    "    :param output_path: Path to save the merged image.\n",
    "    \"\"\"\n",
    "    # Combine all lists into one for processing\n",
    "    image_lists = [list1, list2, list3]\n",
    "    \n",
    "    # Open all images in the lists\n",
    "    image_arrays = [[Image.open(img_path) for img_path in image_list] for image_list in image_lists]\n",
    "    \n",
    "    # Ensure all images have the same dimensions\n",
    "    widths, heights = zip(*(img.size for row in image_arrays for img in row))\n",
    "    max_width = max(widths)\n",
    "    max_height = max(heights)\n",
    "    \n",
    "    # Resize images to ensure uniformity\n",
    "    image_arrays = [\n",
    "        [img.resize((max_width, max_height)) for img in row] for row in image_arrays\n",
    "    ]\n",
    "    \n",
    "    # Calculate the size of the final combined image\n",
    "    total_width = max_width * len(list1)\n",
    "    total_height = max_height * len(image_lists)\n",
    "    \n",
    "    # Create a blank canvas\n",
    "    merged_image = Image.new(\"RGB\", (total_width, total_height))\n",
    "    \n",
    "    # Paste each image onto the canvas\n",
    "    for row_index, row_images in enumerate(image_arrays):\n",
    "        for col_index, img in enumerate(row_images):\n",
    "            x_offset = col_index * max_width\n",
    "            y_offset = row_index * max_height\n",
    "            merged_image.paste(img, (x_offset, y_offset))\n",
    "    \n",
    "    # Save the final image\n",
    "    merged_image.save(output_path)\n",
    "    print(f\"Merged image saved to {output_path}\")\n",
    "\n",
    "\n",
    "def get_subdirs(path):\n",
    "    try:\n",
    "        subdirs = [d for d in os.listdir(path) if os.path.isdir(os.path.join(path, d))]\n",
    "        return subdirs\n",
    "    except FileNotFoundError:\n",
    "        return []\n",
    "    except PermissionError:\n",
    "        return []\n",
    "\n",
    "def get_flists(root_srcpath):\n",
    "    tnames = ['Direct','T9','T8']\n",
    "    out = []\n",
    "    for tname in tnames:\n",
    "        srcpath = os.path.join(root_srcpath,tname,'TMO')\n",
    "        flist = glob.glob(os.path.join(srcpath,'*.tif'))\n",
    "        out.append(flist)\n",
    "    return out\n",
    "\n",
    "root_srcpath = os.path.join(current_dir,'..',r'image\\image_sondage')\n",
    "snames = get_subdirs(root_srcpath)\n",
    "\n",
    "for sname in snames[0:]:\n",
    "    sub_root_srcpath = os.path.join(root_srcpath,sname)\n",
    "    list1,list2,list3 = get_flists(sub_root_srcpath)\n",
    "    dstfile = os.path.join(current_dir,sname+'.png')\n",
    "    merge_image_lists(list1, list2, list3,dstfile)"
   ]
  }
 ],
 "metadata": {
  "kernelspec": {
   "display_name": "Python 3 (ipykernel)",
   "language": "python",
   "name": "python3"
  },
  "language_info": {
   "codemirror_mode": {
    "name": "ipython",
    "version": 3
   },
   "file_extension": ".py",
   "mimetype": "text/x-python",
   "name": "python",
   "nbconvert_exporter": "python",
   "pygments_lexer": "ipython3",
   "version": "3.12.7"
  }
 },
 "nbformat": 4,
 "nbformat_minor": 5
}

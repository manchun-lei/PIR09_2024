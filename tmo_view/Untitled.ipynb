{
 "cells": [
  {
   "cell_type": "code",
   "execution_count": null,
   "id": "a86b0156-29da-400b-8a71-36d4f7a18e8e",
   "metadata": {},
   "outputs": [],
   "source": [
    "%load_ext autoreload\n",
    "%autoreload 2\n",
    "import os\n",
    "import glob\n",
    "from PIL import Image\n",
    "import numpy as np\n",
    "import sys\n",
    "current_dir = os.getcwd()\n",
    "sys.path.append(os.path.join(current_dir,'..','tmo_view'))\n",
    "from tmo_view_image import *"
   ]
  },
  {
   "cell_type": "code",
   "execution_count": null,
   "id": "93fb7abf-2851-4974-8a28-c0c269776e72",
   "metadata": {},
   "outputs": [],
   "source": [
    "def files(lieux):\n",
    "    tnames = ['Direct','T8']\n",
    "    out = []\n",
    "    for tname in tnames:\n",
    "        srcpath = os.path.join(root_srcpath,tname,'TMO\\PNG')\n",
    "        flist = glob.glob(os.path.join(srcpath,'*.tif'))\n",
    "        out.append(flist)\n",
    "    return out\n",
    "\n",
    "    \n",
    "root_srcpath = os.path.join(current_dir,'..',r'image\\image_sondage')\n",
    "snames = get_subdirs(root_srcpath)\n",
    "\n",
    "for sname in snames[0:]:\n",
    "    sub_root_srcpath = os.path.join(root_srcpath,sname)\n",
    "    list1,list2,list3 = get_flists(sub_root_srcpath)\n",
    "    dstfile = os.path.join(current_dir,sname+'.png')\n",
    "    merge_image_lists(list1, list2, list3,dstfile)"
   ]
  }
 ],
 "metadata": {
  "kernelspec": {
   "display_name": "Python 3 (ipykernel)",
   "language": "python",
   "name": "python3"
  },
  "language_info": {
   "codemirror_mode": {
    "name": "ipython",
    "version": 3
   },
   "file_extension": ".py",
   "mimetype": "text/x-python",
   "name": "python",
   "nbconvert_exporter": "python",
   "pygments_lexer": "ipython3",
   "version": "3.9.13"
  }
 },
 "nbformat": 4,
 "nbformat_minor": 5
}
